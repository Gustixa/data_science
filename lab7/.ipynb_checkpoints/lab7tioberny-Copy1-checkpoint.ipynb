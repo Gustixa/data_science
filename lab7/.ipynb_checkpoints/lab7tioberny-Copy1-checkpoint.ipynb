{
 "cells": [
  {
   "cell_type": "code",
   "execution_count": 1,
   "id": "02e45654-bf19-4a10-b8da-ea80d360d107",
   "metadata": {},
   "outputs": [],
   "source": [
    "import json\n",
    "import pandas as pd\n",
    "import chardet\n",
    "import re"
   ]
  },
  {
   "cell_type": "code",
   "execution_count": null,
   "id": "4d662937-7cb2-4e03-a025-9c1839ad1b83",
   "metadata": {},
   "outputs": [],
   "source": [
    "# Leer los primeros bytes del archivo para detectar la codificación\n",
    "with open('tioberny.txt', 'rb') as file:\n",
    "    raw_data = file.read()\n",
    "\n",
    "# Detectar la codificación\n",
    "result = chardet.detect(raw_data)\n",
    "encoding = result['encoding']\n",
    "\n",
    "# Lista para almacenar todos los objetos JSON\n",
    "data_list = []\n",
    "\n",
    "# Leer el archivo línea por línea\n",
    "with open('tioberny.txt', 'r', encoding=encoding) as file:\n",
    "    for line in file:\n",
    "        try:\n",
    "            # Intentar convertir cada línea en un objeto JSON\n",
    "            json_data = json.loads(line)\n",
    "            data_list.append(json_data)\n",
    "        except json.JSONDecodeError as e:\n",
    "            print(f\"Error en la línea: {line}, error: {e}\")\n",
    "\n",
    "# Crear un DataFrame con todos los objetos JSON\n",
    "df = pd.json_normalize(data_list)\n",
    "\n",
    "# Mostrar el DataFrame\n",
    "df\n"
   ]
  },
  {
   "cell_type": "markdown",
   "id": "3e56bf31-9776-4cc4-8ecf-6b23f626e904",
   "metadata": {},
   "source": [
    "# 3 Preprocesamiento de Datos"
   ]
  },
  {
   "cell_type": "markdown",
   "id": "c67214e8-8894-481e-bd12-d6afffdc35c1",
   "metadata": {},
   "source": [
    "#### Convertir texto a minúsculas"
   ]
  },
  {
   "cell_type": "code",
   "execution_count": 3,
   "id": "12a28246-fc1c-4025-ae84-2105ca6bc7d6",
   "metadata": {},
   "outputs": [],
   "source": [
    "df['rawContent'] = df['rawContent'].str.lower()\n"
   ]
  },
  {
   "cell_type": "markdown",
   "id": "233d8abb-7eff-4103-b56f-c0c53790ad65",
   "metadata": {},
   "source": [
    "#### Eliminar caracteres especiales como “@”, “#”, urls, emoticonos:"
   ]
  },
  {
   "cell_type": "code",
   "execution_count": 4,
   "id": "1505988c-5dc9-4ff4-9c78-7456778dfd5b",
   "metadata": {},
   "outputs": [],
   "source": [
    "\n",
    "# Eliminar URLs\n",
    "df['rawContent'] = df['rawContent'].apply(lambda x: re.sub(r'http\\S+', '', x))\n",
    "\n",
    "# Eliminar menciones, hashtags y emoticonos\n",
    "df['rawContent'] = df['rawContent'].apply(lambda x: re.sub(r'[@#]\\w+', '', x))\n",
    "\n",
    "# Eliminar emoticonos unicode\n",
    "df['rawContent'] = df['rawContent'].str.replace(r'[^\\x00-\\x7F]+', '', regex=True)\n",
    "\n",
    "# Eliminar signos de puntuación\n",
    "df['rawContent'] = df['rawContent'].apply(lambda x: re.sub(r'[^\\w\\s]', '', x))\n"
   ]
  },
  {
   "cell_type": "markdown",
   "id": "4d649676-ff96-4317-9ffd-9ac5111b992b",
   "metadata": {},
   "source": [
    "#### Eliminar stopwords y números"
   ]
  },
  {
   "cell_type": "code",
   "execution_count": 5,
   "id": "ef3985dc-d1cb-4162-8587-9979b1c28fe0",
   "metadata": {},
   "outputs": [],
   "source": [
    "from nltk.corpus import stopwords\n",
    "\n",
    "stop_words = set(stopwords.words('spanish'))\n",
    "df['rawContent'] = df['rawContent'].apply(lambda x: ' '.join([word for word in x.split() if word not in stop_words]))\n"
   ]
  },
  {
   "cell_type": "markdown",
   "id": "4ebbfd89-aa59-4fb4-8ba4-c9a37bc3096e",
   "metadata": {},
   "source": [
    "#### Eliminar duplicados"
   ]
  },
  {
   "cell_type": "code",
   "execution_count": 6,
   "id": "2f86fbc4-78c7-4d9e-82af-89eda7e715f0",
   "metadata": {},
   "outputs": [],
   "source": [
    "df.drop_duplicates(subset=['id'], inplace=True)\n"
   ]
  },
  {
   "cell_type": "code",
   "execution_count": null,
   "id": "ad42929a-3bea-4360-b910-38a0ad64ed99",
   "metadata": {},
   "outputs": [],
   "source": []
  }
 ],
 "metadata": {
  "kernelspec": {
   "display_name": "Python 3 (ipykernel)",
   "language": "python",
   "name": "python3"
  },
  "language_info": {
   "codemirror_mode": {
    "name": "ipython",
    "version": 3
   },
   "file_extension": ".py",
   "mimetype": "text/x-python",
   "name": "python",
   "nbconvert_exporter": "python",
   "pygments_lexer": "ipython3",
   "version": "3.12.3"
  }
 },
 "nbformat": 4,
 "nbformat_minor": 5
}
