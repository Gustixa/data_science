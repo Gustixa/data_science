{
 "cells": [
  {
   "cell_type": "code",
   "execution_count": null,
   "id": "02e45654-bf19-4a10-b8da-ea80d360d107",
   "metadata": {},
   "outputs": [
    {
     "ename": "",
     "evalue": "",
     "output_type": "error",
     "traceback": [
      "\u001b[1;31mFailed to start the Kernel. \n",
      "\u001b[1;31mAssertionError. \n",
      "\u001b[1;31mView Jupyter <a href='command:jupyter.viewOutput'>log</a> for further details."
     ]
    }
   ],
   "source": [
    "import json\n",
    "import pandas as pd\n",
    "import chardet\n",
    "import re"
   ]
  },
  {
   "cell_type": "code",
   "execution_count": null,
   "id": "4d662937-7cb2-4e03-a025-9c1839ad1b83",
   "metadata": {},
   "outputs": [],
   "source": [
    "# Leer los primeros bytes del archivo para detectar la codificación\n",
    "with open('tioberny.txt', 'rb') as file:\n",
    "    raw_data = file.read()\n",
    "\n",
    "# Detectar la codificación\n",
    "result = chardet.detect(raw_data)\n",
    "encoding = result['encoding']\n",
    "\n",
    "# Lista para almacenar todos los objetos JSON\n",
    "data_list = []\n",
    "\n",
    "# Leer el archivo línea por línea\n",
    "with open('tioberny.txt', 'r', encoding=encoding) as file:\n",
    "    for line in file:\n",
    "        try:\n",
    "            # Intentar convertir cada línea en un objeto JSON\n",
    "            json_data = json.loads(line)\n",
    "            data_list.append(json_data)\n",
    "        except json.JSONDecodeError as e:\n",
    "            print(f\"Error en la línea: {line}, error: {e}\")\n",
    "\n",
    "# Crear un DataFrame con todos los objetos JSON\n",
    "df = pd.json_normalize(data_list)\n",
    "\n",
    "# Mostrar el DataFrame\n",
    "df\n"
   ]
  },
  {
   "cell_type": "markdown",
   "id": "3e56bf31-9776-4cc4-8ecf-6b23f626e904",
   "metadata": {},
   "source": [
    "# 3 Preprocesamiento de Datos"
   ]
  },
  {
   "cell_type": "markdown",
   "id": "c67214e8-8894-481e-bd12-d6afffdc35c1",
   "metadata": {},
   "source": [
    "#### Convertir texto a minúsculas"
   ]
  },
  {
   "cell_type": "code",
   "execution_count": null,
   "id": "12a28246-fc1c-4025-ae84-2105ca6bc7d6",
   "metadata": {},
   "outputs": [],
   "source": [
    "df['rawContent'] = df['rawContent'].str.lower()\n"
   ]
  },
  {
   "cell_type": "markdown",
   "id": "233d8abb-7eff-4103-b56f-c0c53790ad65",
   "metadata": {},
   "source": [
    "#### Eliminar caracteres especiales como “@”, “#”, urls, emoticonos:"
   ]
  },
  {
   "cell_type": "code",
   "execution_count": null,
   "id": "1505988c-5dc9-4ff4-9c78-7456778dfd5b",
   "metadata": {},
   "outputs": [],
   "source": [
    "\n",
    "# Eliminar URLs\n",
    "df['rawContent'] = df['rawContent'].apply(lambda x: re.sub(r'http\\S+', '', x))\n",
    "\n",
    "# Eliminar menciones, hashtags y emoticonos\n",
    "df['rawContent'] = df['rawContent'].apply(lambda x: re.sub(r'[@#]\\w+', '', x))\n",
    "\n",
    "# Eliminar emoticonos unicode\n",
    "df['rawContent'] = df['rawContent'].str.replace(r'[^\\x00-\\x7F]+', '', regex=True)\n",
    "\n",
    "# Eliminar signos de puntuación\n",
    "df['rawContent'] = df['rawContent'].apply(lambda x: re.sub(r'[^\\w\\s]', '', x))\n"
   ]
  },
  {
   "cell_type": "markdown",
   "id": "4d649676-ff96-4317-9ffd-9ac5111b992b",
   "metadata": {},
   "source": [
    "#### Eliminar stopwords y números"
   ]
  },
  {
   "cell_type": "code",
   "execution_count": null,
   "id": "ef3985dc-d1cb-4162-8587-9979b1c28fe0",
   "metadata": {},
   "outputs": [],
   "source": [
    "from nltk.corpus import stopwords\n",
    "\n",
    "stop_words = set(stopwords.words('spanish'))\n",
    "df['rawContent'] = df['rawContent'].apply(lambda x: ' '.join([word for word in x.split() if word not in stop_words]))\n"
   ]
  },
  {
   "cell_type": "markdown",
   "id": "4ebbfd89-aa59-4fb4-8ba4-c9a37bc3096e",
   "metadata": {},
   "source": [
    "#### Eliminar duplicados"
   ]
  },
  {
   "cell_type": "code",
   "execution_count": null,
   "id": "2f86fbc4-78c7-4d9e-82af-89eda7e715f0",
   "metadata": {},
   "outputs": [],
   "source": [
    "df.drop_duplicates(subset=['id'], inplace=True)\n"
   ]
  },
  {
   "cell_type": "markdown",
   "id": "6ebf66e5-bf01-49d4-9fe5-d9c11063abfc",
   "metadata": {},
   "source": [
    "#### Extraccion de interacciones"
   ]
  },
  {
   "cell_type": "code",
   "execution_count": null,
   "id": "d7c6d470-adb0-4061-8003-9bec19972a36",
   "metadata": {},
   "outputs": [],
   "source": [
    "df['mentions'] = df['rawContent'].apply(lambda x: re.findall(r'@\\w+', x))\n"
   ]
  },
  {
   "cell_type": "code",
   "execution_count": null,
   "id": "707af49e-cbd6-4970-84ac-f9fa49f875fb",
   "metadata": {},
   "outputs": [],
   "source": [
    "df['is_retweet'] = df['rawContent'].apply(lambda x: 1 if 'rt @' in x.lower() else 0)\n"
   ]
  },
  {
   "cell_type": "markdown",
   "id": "9865cbe1-16b5-4d79-b226-feabd67a3e72",
   "metadata": {},
   "source": [
    "# 4 Analisis Explotartorio"
   ]
  },
  {
   "cell_type": "markdown",
   "id": "bb188c26-80bc-4c29-bf1a-9b5467194496",
   "metadata": {},
   "source": [
    "#### Número de tweets, usuarios únicos, menciones"
   ]
  },
  {
   "cell_type": "code",
   "execution_count": null,
   "id": "3696230c-b2d2-40b3-8bc9-3f2a391b8e52",
   "metadata": {},
   "outputs": [],
   "source": [
    "total_tweets = len(df)\n",
    "unique_users = df['user.id'].nunique()\n",
    "total_mentions = df['mentions'].apply(len).sum()\n",
    "\n",
    "print(f\"Total de tweets: {total_tweets}\")\n",
    "print(f\"Usuarios únicos: {unique_users}\")\n",
    "print(f\"Total de menciones: {total_mentions}\")\n"
   ]
  },
  {
   "cell_type": "code",
   "execution_count": null,
   "id": "cf8f6abf-92f5-4864-8057-10746c45d7aa",
   "metadata": {},
   "outputs": [],
   "source": [
    "from wordcloud import WordCloud\n",
    "import matplotlib.pyplot as plt\n",
    "\n",
    "text = ' '.join(df['rawContent'])\n",
    "wordcloud = WordCloud(width=800, height=400).generate(text)\n",
    "\n",
    "plt.figure(figsize=(10,5))\n",
    "plt.imshow(wordcloud, interpolation='bilinear')\n",
    "plt.axis('off')\n",
    "plt.show()\n"
   ]
  },
  {
   "cell_type": "markdown",
   "id": "2309249b-414f-40dc-a435-d30885dc1ee0",
   "metadata": {},
   "source": [
    "# 5 Análisis de la Topología de la Red"
   ]
  },
  {
   "cell_type": "code",
   "execution_count": null,
   "id": "7d83a698-4b16-4faf-80b2-c3b703943aef",
   "metadata": {},
   "outputs": [],
   "source": [
    "import networkx as nx\n",
    "import matplotlib.pyplot as plt\n",
    "\n",
    "# Crear un grafo dirigido\n",
    "G = nx.DiGraph()\n",
    "\n",
    "# Añadir nodos y aristas para las menciones\n",
    "for idx, row in df.iterrows():\n",
    "    user = row['user.id_str']\n",
    "    mentions = row['mentions']\n",
    "    for mention in mentions:\n",
    "        G.add_edge(user, mention)\n",
    "\n",
    "# Visualización del grafo con layout mejorado\n",
    "plt.figure(figsize=(12, 12))\n",
    "\n",
    "# Utilizar spring_layout para mejorar la distribución de los nodos\n",
    "pos = nx.spring_layout(G, k=0.5, iterations=50)\n",
    "\n",
    "# Dibujar el grafo con opciones adicionales para personalización\n",
    "nx.draw(G, pos, with_labels=True, \n",
    "        node_size=700,        # Tamaño de los nodos\n",
    "        node_color=\"skyblue\", # Color de los nodos\n",
    "        font_size=10,         # Tamaño de la fuente de las etiquetas\n",
    "        font_color=\"black\",   # Color del texto\n",
    "        edge_color=\"gray\",    # Color de las aristas\n",
    "        linewidths=0.5,       # Grosor del borde de los nodos\n",
    "        arrows=True,          # Mostrar flechas para indicar la dirección de las aristas\n",
    "        arrowsize=15          # Tamaño de las flechas\n",
    "       )\n",
    "\n",
    "# Mostrar el grafo\n",
    "plt.show()\n"
   ]
  },
  {
   "cell_type": "code",
   "execution_count": null,
   "id": "5df81e42-1133-4999-869b-8c5637efa4fa",
   "metadata": {},
   "outputs": [],
   "source": []
  },
  {
   "cell_type": "code",
   "execution_count": null,
   "id": "f466c9f7-66a3-4267-9f6a-79bae18f2d2b",
   "metadata": {},
   "outputs": [],
   "source": []
  },
  {
   "cell_type": "code",
   "execution_count": null,
   "id": "f1edb228-acd7-4d50-ba97-fab6593cd12d",
   "metadata": {},
   "outputs": [],
   "source": []
  },
  {
   "cell_type": "code",
   "execution_count": null,
   "id": "f6927f13-7beb-494b-8f05-682ae4319162",
   "metadata": {},
   "outputs": [],
   "source": []
  },
  {
   "cell_type": "code",
   "execution_count": null,
   "id": "b45746e3-084d-4948-807e-0a78ec04c024",
   "metadata": {},
   "outputs": [],
   "source": []
  },
  {
   "cell_type": "code",
   "execution_count": null,
   "id": "92ca8392-9726-415e-8c21-5a410987c866",
   "metadata": {},
   "outputs": [],
   "source": []
  }
 ],
 "metadata": {
  "kernelspec": {
   "display_name": "Python 3 (ipykernel)",
   "language": "python",
   "name": "python3"
  },
  "language_info": {
   "codemirror_mode": {
    "name": "ipython",
    "version": 3
   },
   "file_extension": ".py",
   "mimetype": "text/x-python",
   "name": "python",
   "nbconvert_exporter": "python",
   "pygments_lexer": "ipython3",
   "version": "3.10.12"
  }
 },
 "nbformat": 4,
 "nbformat_minor": 5
}
